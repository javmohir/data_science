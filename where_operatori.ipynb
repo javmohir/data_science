{
  "cells": [
    {
      "cell_type": "markdown",
      "metadata": {
        "id": "view-in-github",
        "colab_type": "text"
      },
      "source": [
        "<a href=\"https://colab.research.google.com/github/javmohir/data_science/blob/main/where_operatori.ipynb\" target=\"_parent\"><img src=\"https://colab.research.google.com/assets/colab-badge.svg\" alt=\"Open In Colab\"/></a>"
      ]
    },
    {
      "cell_type": "code",
      "execution_count": 8,
      "metadata": {
        "id": "BujG8fbPpbuD"
      },
      "outputs": [],
      "source": [
        "import pandas as pd\n",
        "\n"
      ]
    },
    {
      "cell_type": "markdown",
      "source": [
        "Massivga yo'naltirilgan dasturlash\n",
        "Mantiqiy shart operatorlarni massiv operator sifatida qo'llash\n",
        "Shart operatori sifatida where dan foydalanish\n",
        "Tassavur qiling bizda ikkita ma'lumotlar (massivlar) mavjud bular: xarr va yarr. Agarda shart Trueni qanoatlantirsa xarr elementini qabul qilgan aksincha esa yarr elementini qabul qilgan yangi massiv hosil qilinsin."
      ],
      "metadata": {
        "id": "QbJbUQmodlJ4"
      }
    },
    {
      "cell_type": "code",
      "source": [
        "# Massivlar\n",
        "xarr=np.array([1.1, 1.2, 1.3, 1.4, 1.5])# xarr\n",
        "yarr=np.array([2.1, 2.2, 2.3, 2.4, 2.5])# yarr"
      ],
      "metadata": {
        "id": "xeru-_ZkdV0L"
      },
      "execution_count": 2,
      "outputs": []
    },
    {
      "cell_type": "code",
      "source": [
        "# shart\n",
        "cond=np.array([True, False, True, True, False])"
      ],
      "metadata": {
        "id": "B0GT8nL9e2X6"
      },
      "execution_count": 3,
      "outputs": []
    },
    {
      "cell_type": "code",
      "source": [
        "# where\n",
        "resalt=np.where(cond, xarr, yarr) # cond==True : xarr elementi, cond==False : yarr elementi\n",
        "resalt"
      ],
      "metadata": {
        "colab": {
          "base_uri": "https://localhost:8080/"
        },
        "id": "vRYWoBkxfuU7",
        "outputId": "c8ed4f23-f94a-481b-ddd6-735096e35df2"
      },
      "execution_count": 4,
      "outputs": [
        {
          "output_type": "execute_result",
          "data": {
            "text/plain": [
              "array([1.1, 2.2, 1.3, 1.4, 2.5])"
            ]
          },
          "metadata": {},
          "execution_count": 4
        }
      ]
    },
    {
      "cell_type": "code",
      "source": [
        "arr=np.random.randn(4,4)\n",
        "arr"
      ],
      "metadata": {
        "colab": {
          "base_uri": "https://localhost:8080/"
        },
        "id": "Lk_S8XNGgSHy",
        "outputId": "6afe6587-60fa-4c30-bbe4-7f06adb43cce"
      },
      "execution_count": 6,
      "outputs": [
        {
          "output_type": "execute_result",
          "data": {
            "text/plain": [
              "array([[ 1.37285134,  0.83261202, -0.23797538,  0.51993011],\n",
              "       [-3.87207032, -0.02287996,  1.6524944 ,  0.24832713],\n",
              "       [ 1.05503842, -1.62103499,  1.00771247, -1.74415159],\n",
              "       [-0.68963088,  0.14862699, -0.11809516,  1.07752055]])"
            ]
          },
          "metadata": {},
          "execution_count": 6
        }
      ]
    },
    {
      "cell_type": "code",
      "source": [
        "results=np.where(arr<0, -2, 2) # arr ning manfiy elementlarini -2 ga musbat elementlarin esa 2 ga almashitirish\n",
        "results"
      ],
      "metadata": {
        "colab": {
          "base_uri": "https://localhost:8080/"
        },
        "id": "heb5UlrRkZVD",
        "outputId": "e5da3a09-ac36-4d6d-8443-b4fbd702dece"
      },
      "execution_count": 7,
      "outputs": [
        {
          "output_type": "execute_result",
          "data": {
            "text/plain": [
              "array([[ 2,  2, -2,  2],\n",
              "       [-2, -2,  2,  2],\n",
              "       [ 2, -2,  2, -2],\n",
              "       [-2,  2, -2,  2]])"
            ]
          },
          "metadata": {},
          "execution_count": 7
        }
      ]
    }
  ],
  "metadata": {
    "colab": {
      "provenance": [],
      "authorship_tag": "ABX9TyObyDi6oU3VI4lYM9pYaoYw",
      "include_colab_link": true
    },
    "kernelspec": {
      "display_name": "Python 3",
      "name": "python3"
    },
    "language_info": {
      "name": "python"
    }
  },
  "nbformat": 4,
  "nbformat_minor": 0
}