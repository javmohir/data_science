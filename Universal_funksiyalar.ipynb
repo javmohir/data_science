{
  "cells": [
    {
      "cell_type": "markdown",
      "metadata": {
        "id": "view-in-github",
        "colab_type": "text"
      },
      "source": [
        "<a href=\"https://colab.research.google.com/github/javmohir/data_science/blob/main/Universal_funksiyalar.ipynb\" target=\"_parent\"><img src=\"https://colab.research.google.com/assets/colab-badge.svg\" alt=\"Open In Colab\"/></a>"
      ]
    },
    {
      "cell_type": "code",
      "execution_count": 1,
      "metadata": {
        "id": "BujG8fbPpbuD"
      },
      "outputs": [],
      "source": [
        "import pandas as pd\n",
        "import numpy as np\n"
      ]
    },
    {
      "cell_type": "markdown",
      "source": [
        "Unary funksiyalar (bitta argument qabul qiluvchi funkisya)\n",
        "sqrt, square, exp, log, modf, sign, isnan funksiyalarini ko'rib chiqamiz\n"
      ],
      "metadata": {
        "id": "1aTkmDWfpwk-"
      }
    },
    {
      "cell_type": "code",
      "source": [
        "arr=np.arange(10) # 0 ~ 10 gacha bo'lgan elementlardan iborat massivni qaytaradi\n",
        "arr\n"
      ],
      "metadata": {
        "colab": {
          "base_uri": "https://localhost:8080/"
        },
        "id": "pL9i2lMRiedg",
        "outputId": "afeb8664-ce28-4f3c-f307-18e4d8822936"
      },
      "execution_count": 8,
      "outputs": [
        {
          "output_type": "execute_result",
          "data": {
            "text/plain": [
              "array([0, 1, 2, 3, 4, 5, 6, 7, 8, 9])"
            ]
          },
          "metadata": {},
          "execution_count": 8
        }
      ]
    },
    {
      "cell_type": "markdown",
      "source": [
        "sqrt massivning xar bir elementini kvadrat ildizni qaytaradi\n"
      ],
      "metadata": {
        "id": "SqstgVNTp3sU"
      }
    },
    {
      "cell_type": "code",
      "source": [
        "np.sqrt(arr) # arr nomli massivning barcha elementlaridan kv ildizni qaytaradi\n"
      ],
      "metadata": {
        "colab": {
          "base_uri": "https://localhost:8080/"
        },
        "id": "q9X3SxkJpya8",
        "outputId": "38b19679-96e6-4099-c45f-10eec78005d9"
      },
      "execution_count": 9,
      "outputs": [
        {
          "output_type": "execute_result",
          "data": {
            "text/plain": [
              "array([0.        , 1.        , 1.41421356, 1.73205081, 2.        ,\n",
              "       2.23606798, 2.44948974, 2.64575131, 2.82842712, 3.        ])"
            ]
          },
          "metadata": {},
          "execution_count": 9
        }
      ]
    },
    {
      "cell_type": "code",
      "source": [
        "np.square(arr) #square massivning xar bir elementini kvadratga oshiradi\n"
      ],
      "metadata": {
        "colab": {
          "base_uri": "https://localhost:8080/"
        },
        "id": "PA0zAoTrqBVa",
        "outputId": "ab8a0c7a-be37-43bf-be8a-ba65b8d6fd15"
      },
      "execution_count": 11,
      "outputs": [
        {
          "output_type": "execute_result",
          "data": {
            "text/plain": [
              "array([ 0,  1,  4,  9, 16, 25, 36, 49, 64, 81])"
            ]
          },
          "metadata": {},
          "execution_count": 11
        }
      ]
    },
    {
      "cell_type": "markdown",
      "source": [
        "exp massivning xar bir elementini eksponentini qaytaradi\n"
      ],
      "metadata": {
        "id": "wfXJG-yHqixT"
      }
    },
    {
      "cell_type": "code",
      "source": [
        "np.exp(arr)"
      ],
      "metadata": {
        "colab": {
          "base_uri": "https://localhost:8080/"
        },
        "id": "yuVYhRwsqVhI",
        "outputId": "c9e0db11-c5b4-4c19-f5dc-38e630b2a0e4"
      },
      "execution_count": 12,
      "outputs": [
        {
          "output_type": "execute_result",
          "data": {
            "text/plain": [
              "array([1.00000000e+00, 2.71828183e+00, 7.38905610e+00, 2.00855369e+01,\n",
              "       5.45981500e+01, 1.48413159e+02, 4.03428793e+02, 1.09663316e+03,\n",
              "       2.98095799e+03, 8.10308393e+03])"
            ]
          },
          "metadata": {},
          "execution_count": 12
        }
      ]
    },
    {
      "cell_type": "markdown",
      "source": [
        "log massivning xar bir logorifmini hisoblaydi"
      ],
      "metadata": {
        "id": "REkjX4Nx176T"
      }
    },
    {
      "cell_type": "code",
      "source": [
        "np.log(arr[1:])"
      ],
      "metadata": {
        "colab": {
          "base_uri": "https://localhost:8080/"
        },
        "id": "XQeKlp1uquGc",
        "outputId": "06f38494-a327-412c-e061-c390fbf18558"
      },
      "execution_count": 14,
      "outputs": [
        {
          "output_type": "execute_result",
          "data": {
            "text/plain": [
              "array([0.        , 0.69314718, 1.09861229, 1.38629436, 1.60943791,\n",
              "       1.79175947, 1.94591015, 2.07944154, 2.19722458])"
            ]
          },
          "metadata": {},
          "execution_count": 14
        }
      ]
    },
    {
      "cell_type": "code",
      "source": [
        "arr1=np.random.randn(6)\n",
        "arr1"
      ],
      "metadata": {
        "colab": {
          "base_uri": "https://localhost:8080/"
        },
        "id": "DFrR9cIK2NYb",
        "outputId": "12b74cf9-b1c3-42c0-9642-71b131e0e4c2"
      },
      "execution_count": 15,
      "outputs": [
        {
          "output_type": "execute_result",
          "data": {
            "text/plain": [
              "array([ 0.25671513,  0.2807004 ,  1.69194515,  0.86731024,  0.99901729,\n",
              "       -0.66798746])"
            ]
          },
          "metadata": {},
          "execution_count": 15
        }
      ]
    },
    {
      "cell_type": "markdown",
      "source": [
        "modf bu funksiya haqiqiy sonlarni butun va qoldiq qismlarini ajratib beruvchi funksiya\n"
      ],
      "metadata": {
        "id": "j6E176Wk26PP"
      }
    },
    {
      "cell_type": "code",
      "source": [
        "qoldiq, butun=np.modf(arr1)# arr1 ning elementlarini qoldiq va butun qismlarini ikkita massivga ajratadi\n"
      ],
      "metadata": {
        "id": "XFoC88a82urJ"
      },
      "execution_count": 16,
      "outputs": []
    },
    {
      "cell_type": "code",
      "source": [
        "print(qoldiq)\n",
        "print(butun)"
      ],
      "metadata": {
        "colab": {
          "base_uri": "https://localhost:8080/"
        },
        "id": "zqSU2MOC3E7T",
        "outputId": "6bc0eed0-743e-4cf8-bb65-6d11b98cf18a"
      },
      "execution_count": 17,
      "outputs": [
        {
          "output_type": "stream",
          "name": "stdout",
          "text": [
            "[ 0.25671513  0.2807004   0.69194515  0.86731024  0.99901729 -0.66798746]\n",
            "[ 0.  0.  1.  0.  0. -0.]\n"
          ]
        }
      ]
    },
    {
      "cell_type": "markdown",
      "source": [
        "sign funkisyasi massiv elementlarini qiymati manfiy bo'lsa -1 va aksincha musbat bo'lsa 1 ni qaytaradi\n"
      ],
      "metadata": {
        "id": "mRyqcu833jrV"
      }
    },
    {
      "cell_type": "code",
      "source": [
        "np.sign(arr1)"
      ],
      "metadata": {
        "colab": {
          "base_uri": "https://localhost:8080/"
        },
        "id": "jnQC7HL63QUN",
        "outputId": "fe1a6c55-3fcf-4cea-a1ec-94894e30d56e"
      },
      "execution_count": 18,
      "outputs": [
        {
          "output_type": "execute_result",
          "data": {
            "text/plain": [
              "array([ 1.,  1.,  1.,  1.,  1., -1.])"
            ]
          },
          "metadata": {},
          "execution_count": 18
        }
      ]
    },
    {
      "cell_type": "code",
      "source": [
        "arr1"
      ],
      "metadata": {
        "colab": {
          "base_uri": "https://localhost:8080/"
        },
        "id": "sstCyvdb33m-",
        "outputId": "c6a74264-5cd2-48e6-856d-d381ac0fdbd8"
      },
      "execution_count": 20,
      "outputs": [
        {
          "output_type": "execute_result",
          "data": {
            "text/plain": [
              "array([ 0.25671513,  0.2807004 ,  1.69194515,  0.86731024,  0.99901729,\n",
              "       -0.66798746])"
            ]
          },
          "metadata": {},
          "execution_count": 20
        }
      ]
    },
    {
      "cell_type": "code",
      "source": [
        "np.isnan(arr1)"
      ],
      "metadata": {
        "colab": {
          "base_uri": "https://localhost:8080/"
        },
        "id": "a4Hoycr23qIO",
        "outputId": "f84b8600-5966-4719-c427-1e9d4a4f803e"
      },
      "execution_count": 19,
      "outputs": [
        {
          "output_type": "execute_result",
          "data": {
            "text/plain": [
              "array([False, False, False, False, False, False])"
            ]
          },
          "metadata": {},
          "execution_count": 19
        }
      ]
    },
    {
      "cell_type": "code",
      "source": [
        "arr1[0]=np.NaN"
      ],
      "metadata": {
        "id": "RmzhaQv130Rk"
      },
      "execution_count": 21,
      "outputs": []
    },
    {
      "cell_type": "code",
      "source": [
        "arr1"
      ],
      "metadata": {
        "colab": {
          "base_uri": "https://localhost:8080/"
        },
        "id": "OfCvTEo94LFL",
        "outputId": "fa80792a-ce07-4333-e6ae-3dc870e83f28"
      },
      "execution_count": 22,
      "outputs": [
        {
          "output_type": "execute_result",
          "data": {
            "text/plain": [
              "array([        nan,  0.2807004 ,  1.69194515,  0.86731024,  0.99901729,\n",
              "       -0.66798746])"
            ]
          },
          "metadata": {},
          "execution_count": 22
        }
      ]
    },
    {
      "cell_type": "code",
      "source": [
        "np.rint(arr1) # butun son ko'rinishida yaxlitlaydi"
      ],
      "metadata": {
        "colab": {
          "base_uri": "https://localhost:8080/"
        },
        "id": "5PW3Ohub4UQJ",
        "outputId": "3bdf1049-d39b-4f5c-9644-106bcfd9db7d"
      },
      "execution_count": 30,
      "outputs": [
        {
          "output_type": "execute_result",
          "data": {
            "text/plain": [
              "array([nan,  0.,  2.,  1.,  1., -1.])"
            ]
          },
          "metadata": {},
          "execution_count": 30
        }
      ]
    },
    {
      "cell_type": "markdown",
      "source": [
        "Binary funksiyalar (ikkita argument qabul qiluvchi funkisya)\n",
        "add, multiply, maximum funksiyalarini ko'rib chiqamiz\n",
        "add ikkita massivning mos elementlarini qo'shadi\n"
      ],
      "metadata": {
        "id": "LMPH8BNi6HFV"
      }
    },
    {
      "cell_type": "code",
      "source": [
        "arr2=np.random.randn(6)\n",
        "arr3=np.random.randn(6)"
      ],
      "metadata": {
        "id": "jMp4TuNN5Dog"
      },
      "execution_count": 31,
      "outputs": []
    },
    {
      "cell_type": "code",
      "source": [
        "arr2"
      ],
      "metadata": {
        "colab": {
          "base_uri": "https://localhost:8080/"
        },
        "id": "9YcScw0853Uo",
        "outputId": "1cc550de-0c55-4c15-fb68-b93f328ff507"
      },
      "execution_count": 32,
      "outputs": [
        {
          "output_type": "execute_result",
          "data": {
            "text/plain": [
              "array([-0.91318293,  0.06960202, -0.53896898, -0.44971209,  1.20797925,\n",
              "        2.01150849])"
            ]
          },
          "metadata": {},
          "execution_count": 32
        }
      ]
    },
    {
      "cell_type": "code",
      "source": [
        "arr3"
      ],
      "metadata": {
        "colab": {
          "base_uri": "https://localhost:8080/"
        },
        "id": "H_QiLK0955Re",
        "outputId": "2ce1599f-9288-4b24-c384-9bd36f4ad9d5"
      },
      "execution_count": 33,
      "outputs": [
        {
          "output_type": "execute_result",
          "data": {
            "text/plain": [
              "array([-0.46474793, -0.50110734, -2.42789284, -1.00379141,  0.56127771,\n",
              "        0.94262625])"
            ]
          },
          "metadata": {},
          "execution_count": 33
        }
      ]
    },
    {
      "cell_type": "code",
      "source": [
        "np.add(arr2, arr3)"
      ],
      "metadata": {
        "colab": {
          "base_uri": "https://localhost:8080/"
        },
        "id": "vkIaefxC56GX",
        "outputId": "762ff002-65df-42f1-e069-5cf1e46d689f"
      },
      "execution_count": 34,
      "outputs": [
        {
          "output_type": "execute_result",
          "data": {
            "text/plain": [
              "array([-1.37793086, -0.43150532, -2.96686181, -1.4535035 ,  1.76925696,\n",
              "        2.95413475])"
            ]
          },
          "metadata": {},
          "execution_count": 34
        }
      ]
    },
    {
      "cell_type": "code",
      "source": [
        "arr2+arr3"
      ],
      "metadata": {
        "colab": {
          "base_uri": "https://localhost:8080/"
        },
        "id": "czOqe9EJ6P8h",
        "outputId": "f31513cf-9a7d-4417-c5b4-23f0ddadac49"
      },
      "execution_count": 35,
      "outputs": [
        {
          "output_type": "execute_result",
          "data": {
            "text/plain": [
              "array([-1.37793086, -0.43150532, -2.96686181, -1.4535035 ,  1.76925696,\n",
              "        2.95413475])"
            ]
          },
          "metadata": {},
          "execution_count": 35
        }
      ]
    },
    {
      "cell_type": "code",
      "source": [
        "np.multiply(arr2, arr3) #multiply ikkita massivning mos elementlarini ko'paytiradi\n"
      ],
      "metadata": {
        "colab": {
          "base_uri": "https://localhost:8080/"
        },
        "id": "-8HujebI6dur",
        "outputId": "69bde37d-cbd1-4974-d5a9-304867ec93b2"
      },
      "execution_count": 36,
      "outputs": [
        {
          "output_type": "execute_result",
          "data": {
            "text/plain": [
              "array([ 0.42439987, -0.03487808,  1.30855892,  0.45141714,  0.67801183,\n",
              "        1.89610072])"
            ]
          },
          "metadata": {},
          "execution_count": 36
        }
      ]
    },
    {
      "cell_type": "markdown",
      "source": [
        "maximum ikkita massivning elementlarin taqqoslab ulardan kattasining qiymatini qaytaradi"
      ],
      "metadata": {
        "id": "4fuQd8Il67S0"
      }
    },
    {
      "cell_type": "code",
      "source": [
        "np.maximum(arr2, arr3)"
      ],
      "metadata": {
        "colab": {
          "base_uri": "https://localhost:8080/"
        },
        "id": "k-_5iuwq6wEC",
        "outputId": "797805db-68f2-478e-b033-0f8c4b810d19"
      },
      "execution_count": 37,
      "outputs": [
        {
          "output_type": "execute_result",
          "data": {
            "text/plain": [
              "array([-0.46474793,  0.06960202, -0.53896898, -0.44971209,  1.20797925,\n",
              "        2.01150849])"
            ]
          },
          "metadata": {},
          "execution_count": 37
        }
      ]
    },
    {
      "cell_type": "code",
      "source": [],
      "metadata": {
        "id": "pBxumkZv7Cb-"
      },
      "execution_count": null,
      "outputs": []
    }
  ],
  "metadata": {
    "colab": {
      "provenance": [],
      "authorship_tag": "ABX9TyOX4vDodrCnraJa4VJ2JzuG",
      "include_colab_link": true
    },
    "kernelspec": {
      "display_name": "Python 3",
      "name": "python3"
    },
    "language_info": {
      "name": "python"
    }
  },
  "nbformat": 4,
  "nbformat_minor": 0
}