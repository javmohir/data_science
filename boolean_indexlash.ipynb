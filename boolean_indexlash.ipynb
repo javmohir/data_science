{
  "cells": [
    {
      "cell_type": "markdown",
      "metadata": {
        "id": "view-in-github",
        "colab_type": "text"
      },
      "source": [
        "<a href=\"https://colab.research.google.com/github/javmohir/data_science/blob/main/boolean_indexlash.ipynb\" target=\"_parent\"><img src=\"https://colab.research.google.com/assets/colab-badge.svg\" alt=\"Open In Colab\"/></a>"
      ]
    },
    {
      "cell_type": "code",
      "execution_count": 57,
      "metadata": {
        "id": "BujG8fbPpbuD"
      },
      "outputs": [],
      "source": [
        "import pandas as pd\n",
        "import numpy as np\n"
      ]
    },
    {
      "cell_type": "markdown",
      "source": [
        "N-o'lchamli massiv (array)larga ishlov berish\n",
        "Bolean Indekslash"
      ],
      "metadata": {
        "id": "uafwr35nu_mR"
      }
    },
    {
      "cell_type": "code",
      "source": [
        "names=np.array(['Hasan', 'Husan', 'Mirzabek', 'Elyor', 'Hasan', 'Javohir', 'Elyor'])\n",
        "names"
      ],
      "metadata": {
        "colab": {
          "base_uri": "https://localhost:8080/"
        },
        "id": "12ZYi_3mu_LJ",
        "outputId": "e03d60ae-4bd1-49b1-a9f1-45193d2cabdb"
      },
      "execution_count": 58,
      "outputs": [
        {
          "output_type": "execute_result",
          "data": {
            "text/plain": [
              "array(['Hasan', 'Husan', 'Mirzabek', 'Elyor', 'Hasan', 'Javohir', 'Elyor'],\n",
              "      dtype='<U8')"
            ]
          },
          "metadata": {},
          "execution_count": 58
        }
      ]
    },
    {
      "cell_type": "code",
      "source": [
        "data=np.random.randn(7,4)\n",
        "data"
      ],
      "metadata": {
        "colab": {
          "base_uri": "https://localhost:8080/"
        },
        "id": "M5-t7-0nu_JP",
        "outputId": "a4035306-5499-4642-b825-c82649f7e874"
      },
      "execution_count": 59,
      "outputs": [
        {
          "output_type": "execute_result",
          "data": {
            "text/plain": [
              "array([[ 1.37916529,  0.77773197, -0.15075241,  0.47146749],\n",
              "       [-0.75838475,  0.25109889, -0.40252481, -0.4774771 ],\n",
              "       [-0.68899972,  1.90328029,  1.05757109,  0.65897327],\n",
              "       [ 0.42805994, -2.29005252,  0.3630752 ,  1.27618796],\n",
              "       [-1.17815568, -0.12814744, -0.38208308, -0.81525547],\n",
              "       [ 0.26400993,  0.11199416, -0.97811718,  0.07986373],\n",
              "       [-0.29142805, -0.37766368,  1.56075477, -0.22639995]])"
            ]
          },
          "metadata": {},
          "execution_count": 59
        }
      ]
    },
    {
      "cell_type": "code",
      "source": [
        "names=='Hasan'"
      ],
      "metadata": {
        "colab": {
          "base_uri": "https://localhost:8080/"
        },
        "id": "XQtFGvHSu_Gn",
        "outputId": "c4ecba17-017a-4568-95f5-ea1310076ff0"
      },
      "execution_count": 60,
      "outputs": [
        {
          "output_type": "execute_result",
          "data": {
            "text/plain": [
              "array([ True, False, False, False,  True, False, False])"
            ]
          },
          "metadata": {},
          "execution_count": 60
        }
      ]
    },
    {
      "cell_type": "code",
      "source": [
        "data[names=='Hasan']"
      ],
      "metadata": {
        "colab": {
          "base_uri": "https://localhost:8080/"
        },
        "id": "RGUmLF5tweOf",
        "outputId": "77713ddf-b0c3-40e8-9b6c-1b2b0b0c31cd"
      },
      "execution_count": 61,
      "outputs": [
        {
          "output_type": "execute_result",
          "data": {
            "text/plain": [
              "array([[ 1.37916529,  0.77773197, -0.15075241,  0.47146749],\n",
              "       [-1.17815568, -0.12814744, -0.38208308, -0.81525547]])"
            ]
          },
          "metadata": {},
          "execution_count": 61
        }
      ]
    },
    {
      "cell_type": "code",
      "source": [
        "names=='Elyor'"
      ],
      "metadata": {
        "colab": {
          "base_uri": "https://localhost:8080/"
        },
        "id": "TA_hzoSrxYzi",
        "outputId": "1116aeb4-0c18-4122-b8ad-a786612b4a26"
      },
      "execution_count": 62,
      "outputs": [
        {
          "output_type": "execute_result",
          "data": {
            "text/plain": [
              "array([False, False, False,  True, False, False,  True])"
            ]
          },
          "metadata": {},
          "execution_count": 62
        }
      ]
    },
    {
      "cell_type": "code",
      "source": [
        "data[names=='Elyor']"
      ],
      "metadata": {
        "colab": {
          "base_uri": "https://localhost:8080/"
        },
        "id": "KTVi4uFEw8MH",
        "outputId": "6dcddd9c-e6e6-4677-8e9c-4bf606fc7f32"
      },
      "execution_count": 63,
      "outputs": [
        {
          "output_type": "execute_result",
          "data": {
            "text/plain": [
              "array([[ 0.42805994, -2.29005252,  0.3630752 ,  1.27618796],\n",
              "       [-0.29142805, -0.37766368,  1.56075477, -0.22639995]])"
            ]
          },
          "metadata": {},
          "execution_count": 63
        }
      ]
    },
    {
      "cell_type": "code",
      "source": [
        "data[names=='Hasan',2:] # Hasanga tegishli oxirgi ikkita ustundagi ma'lumotlarni ajratib olish\n"
      ],
      "metadata": {
        "colab": {
          "base_uri": "https://localhost:8080/"
        },
        "id": "2VEq0OIDxWy6",
        "outputId": "dd7fedd5-3729-4b38-ba83-81ce236001e2"
      },
      "execution_count": 64,
      "outputs": [
        {
          "output_type": "execute_result",
          "data": {
            "text/plain": [
              "array([[-0.15075241,  0.47146749],\n",
              "       [-0.38208308, -0.81525547]])"
            ]
          },
          "metadata": {},
          "execution_count": 64
        }
      ]
    },
    {
      "cell_type": "code",
      "source": [
        "data[names!='Hasan']  # (!=)Hasandan tashqari barcha insonlarning ma'lumotlarni ajratib olish\n"
      ],
      "metadata": {
        "colab": {
          "base_uri": "https://localhost:8080/"
        },
        "id": "rU93b3N2xs_Y",
        "outputId": "13a6d5bb-7354-4054-9fae-0f88a2b4acb1"
      },
      "execution_count": 65,
      "outputs": [
        {
          "output_type": "execute_result",
          "data": {
            "text/plain": [
              "array([[-0.75838475,  0.25109889, -0.40252481, -0.4774771 ],\n",
              "       [-0.68899972,  1.90328029,  1.05757109,  0.65897327],\n",
              "       [ 0.42805994, -2.29005252,  0.3630752 ,  1.27618796],\n",
              "       [ 0.26400993,  0.11199416, -0.97811718,  0.07986373],\n",
              "       [-0.29142805, -0.37766368,  1.56075477, -0.22639995]])"
            ]
          },
          "metadata": {},
          "execution_count": 65
        }
      ]
    },
    {
      "cell_type": "code",
      "source": [
        "data[~(names=='Hasan')] # (~) yuqoridagi cell bilan bir xil natijani berar ekan\n",
        "# names!='Hasan"
      ],
      "metadata": {
        "colab": {
          "base_uri": "https://localhost:8080/"
        },
        "id": "ruqIdczQxx-U",
        "outputId": "cbd91ff0-ebef-4499-c1a7-839a588d7b16"
      },
      "execution_count": 66,
      "outputs": [
        {
          "output_type": "execute_result",
          "data": {
            "text/plain": [
              "array([[-0.75838475,  0.25109889, -0.40252481, -0.4774771 ],\n",
              "       [-0.68899972,  1.90328029,  1.05757109,  0.65897327],\n",
              "       [ 0.42805994, -2.29005252,  0.3630752 ,  1.27618796],\n",
              "       [ 0.26400993,  0.11199416, -0.97811718,  0.07986373],\n",
              "       [-0.29142805, -0.37766368,  1.56075477, -0.22639995]])"
            ]
          },
          "metadata": {},
          "execution_count": 66
        }
      ]
    },
    {
      "cell_type": "code",
      "source": [
        "print(names)\n",
        "print(data)"
      ],
      "metadata": {
        "colab": {
          "base_uri": "https://localhost:8080/"
        },
        "id": "VasBCKgwyyJA",
        "outputId": "0bc15d0f-93df-48b4-d95d-a1a1b2c28a9c"
      },
      "execution_count": 67,
      "outputs": [
        {
          "output_type": "stream",
          "name": "stdout",
          "text": [
            "['Hasan' 'Husan' 'Mirzabek' 'Elyor' 'Hasan' 'Javohir' 'Elyor']\n",
            "[[ 1.37916529  0.77773197 -0.15075241  0.47146749]\n",
            " [-0.75838475  0.25109889 -0.40252481 -0.4774771 ]\n",
            " [-0.68899972  1.90328029  1.05757109  0.65897327]\n",
            " [ 0.42805994 -2.29005252  0.3630752   1.27618796]\n",
            " [-1.17815568 -0.12814744 -0.38208308 -0.81525547]\n",
            " [ 0.26400993  0.11199416 -0.97811718  0.07986373]\n",
            " [-0.29142805 -0.37766368  1.56075477 -0.22639995]]\n"
          ]
        }
      ]
    },
    {
      "cell_type": "code",
      "source": [
        "mask=(names=='Hasan')|(names=='Husan')\n",
        "mask"
      ],
      "metadata": {
        "colab": {
          "base_uri": "https://localhost:8080/"
        },
        "id": "jNYEVMJFy3dz",
        "outputId": "0ccb831a-c34b-469d-e9cb-b0c845c691c7"
      },
      "execution_count": 68,
      "outputs": [
        {
          "output_type": "execute_result",
          "data": {
            "text/plain": [
              "array([ True,  True, False, False,  True, False, False])"
            ]
          },
          "metadata": {},
          "execution_count": 68
        }
      ]
    },
    {
      "cell_type": "code",
      "source": [
        "data[mask]"
      ],
      "metadata": {
        "colab": {
          "base_uri": "https://localhost:8080/"
        },
        "id": "Sr9q16MrzBk8",
        "outputId": "7098de29-dfd4-49f8-d194-96bab342e254"
      },
      "execution_count": 69,
      "outputs": [
        {
          "output_type": "execute_result",
          "data": {
            "text/plain": [
              "array([[ 1.37916529,  0.77773197, -0.15075241,  0.47146749],\n",
              "       [-0.75838475,  0.25109889, -0.40252481, -0.4774771 ],\n",
              "       [-1.17815568, -0.12814744, -0.38208308, -0.81525547]])"
            ]
          },
          "metadata": {},
          "execution_count": 69
        }
      ]
    },
    {
      "cell_type": "code",
      "source": [
        "data[data<0]=0\n",
        "data"
      ],
      "metadata": {
        "colab": {
          "base_uri": "https://localhost:8080/"
        },
        "id": "TfrdAbB8zBjE",
        "outputId": "6381b0fe-d91d-408e-abc9-f6385680d910"
      },
      "execution_count": 70,
      "outputs": [
        {
          "output_type": "execute_result",
          "data": {
            "text/plain": [
              "array([[1.37916529, 0.77773197, 0.        , 0.47146749],\n",
              "       [0.        , 0.25109889, 0.        , 0.        ],\n",
              "       [0.        , 1.90328029, 1.05757109, 0.65897327],\n",
              "       [0.42805994, 0.        , 0.3630752 , 1.27618796],\n",
              "       [0.        , 0.        , 0.        , 0.        ],\n",
              "       [0.26400993, 0.11199416, 0.        , 0.07986373],\n",
              "       [0.        , 0.        , 1.56075477, 0.        ]])"
            ]
          },
          "metadata": {},
          "execution_count": 70
        }
      ]
    },
    {
      "cell_type": "code",
      "source": [
        "data"
      ],
      "metadata": {
        "colab": {
          "base_uri": "https://localhost:8080/"
        },
        "id": "NmkRbQyGzBS6",
        "outputId": "e3b131bf-02bb-4271-c95f-c2a6ad3b7edf"
      },
      "execution_count": 71,
      "outputs": [
        {
          "output_type": "execute_result",
          "data": {
            "text/plain": [
              "array([[1.37916529, 0.77773197, 0.        , 0.47146749],\n",
              "       [0.        , 0.25109889, 0.        , 0.        ],\n",
              "       [0.        , 1.90328029, 1.05757109, 0.65897327],\n",
              "       [0.42805994, 0.        , 0.3630752 , 1.27618796],\n",
              "       [0.        , 0.        , 0.        , 0.        ],\n",
              "       [0.26400993, 0.11199416, 0.        , 0.07986373],\n",
              "       [0.        , 0.        , 1.56075477, 0.        ]])"
            ]
          },
          "metadata": {},
          "execution_count": 71
        }
      ]
    },
    {
      "cell_type": "code",
      "source": [],
      "metadata": {
        "id": "fCKhSKcTzBQv"
      },
      "execution_count": 69,
      "outputs": []
    }
  ],
  "metadata": {
    "colab": {
      "provenance": [],
      "authorship_tag": "ABX9TyPr/2NHvKFIgZgsECWE0tac",
      "include_colab_link": true
    },
    "kernelspec": {
      "display_name": "Python 3",
      "name": "python3"
    },
    "language_info": {
      "name": "python"
    }
  },
  "nbformat": 4,
  "nbformat_minor": 0
}