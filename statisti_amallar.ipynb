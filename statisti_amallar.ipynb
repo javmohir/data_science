{
  "cells": [
    {
      "cell_type": "markdown",
      "metadata": {
        "id": "view-in-github",
        "colab_type": "text"
      },
      "source": [
        "<a href=\"https://colab.research.google.com/github/javmohir/data_science/blob/main/statisti_amallar.ipynb\" target=\"_parent\"><img src=\"https://colab.research.google.com/assets/colab-badge.svg\" alt=\"Open In Colab\"/></a>"
      ]
    },
    {
      "cell_type": "code",
      "execution_count": 43,
      "metadata": {
        "id": "BujG8fbPpbuD"
      },
      "outputs": [],
      "source": [
        "import pandas as pd\n",
        "\n"
      ]
    },
    {
      "cell_type": "markdown",
      "metadata": {
        "id": "HlZ3NL4LHIk0"
      },
      "source": [
        ". Massivga yo'naltirilgan dasturlash\n",
        "Matematik va Statistik usullarni qo'llash"
      ]
    },
    {
      "cell_type": "code",
      "execution_count": 44,
      "metadata": {
        "colab": {
          "base_uri": "https://localhost:8080/"
        },
        "id": "0mjJCo7aHLit",
        "outputId": "ff64468e-768f-4c07-878c-4779d80d3a47"
      },
      "outputs": [
        {
          "output_type": "execute_result",
          "data": {
            "text/plain": [
              "array([[-0.45540254, -0.18062046, -0.63565079,  0.58689711],\n",
              "       [-1.29062942, -1.0510313 , -0.32573296, -0.7782713 ],\n",
              "       [ 1.77342755,  1.6138695 , -0.32670617, -0.07105604],\n",
              "       [ 1.38053707, -0.18100648,  1.95718905,  1.00202916],\n",
              "       [ 0.18658333, -0.12149397,  0.29844408,  0.66256485]])"
            ]
          },
          "metadata": {},
          "execution_count": 44
        }
      ],
      "source": [
        "arr=np.random.randn(5,4)  # (5, 4) o'lchovli massiv (random)\n",
        "arr"
      ]
    },
    {
      "cell_type": "code",
      "execution_count": 45,
      "metadata": {
        "colab": {
          "base_uri": "https://localhost:8080/"
        },
        "id": "q8wpuwjlHlsv",
        "outputId": "864e5ee0-406f-4e89-a5ff-c85e22d052ab"
      },
      "outputs": [
        {
          "output_type": "execute_result",
          "data": {
            "text/plain": [
              "4.043940289554577"
            ]
          },
          "metadata": {},
          "execution_count": 45
        }
      ],
      "source": [
        "arr.sum()  # arr ning barcha elementlarni yig'indisini hisoblab beradi\n",
        "\n"
      ]
    },
    {
      "cell_type": "code",
      "execution_count": 46,
      "metadata": {
        "colab": {
          "base_uri": "https://localhost:8080/"
        },
        "id": "Lm0OGTWuHtzD",
        "outputId": "9f1254dd-1d61-49f6-c4a0-44941540da3b"
      },
      "outputs": [
        {
          "output_type": "execute_result",
          "data": {
            "text/plain": [
              "4.043940289554577"
            ]
          },
          "metadata": {},
          "execution_count": 46
        }
      ],
      "source": [
        "np.sum(arr)  # arr ning barcha elementlarni yig'indisini hisoblab beradi\n"
      ]
    },
    {
      "cell_type": "code",
      "execution_count": 47,
      "metadata": {
        "colab": {
          "base_uri": "https://localhost:8080/"
        },
        "id": "ejwtL3AwH2ye",
        "outputId": "a4d1f1ae-87f2-418e-bd16-c54bd2931bcf"
      },
      "outputs": [
        {
          "output_type": "execute_result",
          "data": {
            "text/plain": [
              "array([-0.68477667, -3.44566498,  2.98953484,  4.15874881,  1.02609829])"
            ]
          },
          "metadata": {},
          "execution_count": 47
        }
      ],
      "source": [
        "arr.sum(axis=1) # qator yi'gindi"
      ]
    },
    {
      "cell_type": "code",
      "execution_count": 48,
      "metadata": {
        "colab": {
          "base_uri": "https://localhost:8080/"
        },
        "id": "Xtd89BH5IGRu",
        "outputId": "91a3ce41-4fb5-47c1-e14c-c34beea94ec5"
      },
      "outputs": [
        {
          "output_type": "execute_result",
          "data": {
            "text/plain": [
              "array([1.594516  , 0.07971729, 0.96754322, 1.40216377])"
            ]
          },
          "metadata": {},
          "execution_count": 48
        }
      ],
      "source": [
        "arr.sum(axis=0) # ustun yig'indisini hisoblab beradi"
      ]
    },
    {
      "cell_type": "code",
      "execution_count": 49,
      "metadata": {
        "colab": {
          "base_uri": "https://localhost:8080/"
        },
        "id": "Jn_vh1JkIvG2",
        "outputId": "90c48b95-a8bc-4735-9889-0471eab01214"
      },
      "outputs": [
        {
          "output_type": "execute_result",
          "data": {
            "text/plain": [
              "array([0, 1, 2, 3, 4])"
            ]
          },
          "metadata": {},
          "execution_count": 49
        }
      ],
      "source": [
        "data=np.arange(5)# 0 ~ 5 gacha bo'lgan elementlarda tashkil topgan massiv\n",
        "data"
      ]
    },
    {
      "cell_type": "code",
      "execution_count": 50,
      "metadata": {
        "colab": {
          "base_uri": "https://localhost:8080/"
        },
        "id": "qLNBvfVOI-75",
        "outputId": "06af33db-1845-4a38-c587-16b77670c800"
      },
      "outputs": [
        {
          "output_type": "execute_result",
          "data": {
            "text/plain": [
              "5"
            ]
          },
          "metadata": {},
          "execution_count": 50
        }
      ],
      "source": [
        "len(data)"
      ]
    },
    {
      "cell_type": "code",
      "execution_count": 51,
      "metadata": {
        "colab": {
          "base_uri": "https://localhost:8080/"
        },
        "id": "Eq7EeKSAJM92",
        "outputId": "000a20f2-17ce-472b-d9b5-24ffb3e003f7"
      },
      "outputs": [
        {
          "output_type": "execute_result",
          "data": {
            "text/plain": [
              "2.0"
            ]
          },
          "metadata": {},
          "execution_count": 51
        }
      ],
      "source": [
        "mean=np.sum(data)/len(data)\n",
        "mean"
      ]
    },
    {
      "cell_type": "code",
      "execution_count": 52,
      "metadata": {
        "colab": {
          "base_uri": "https://localhost:8080/"
        },
        "id": "xj1-D446JZ3V",
        "outputId": "1a01282a-1a15-4cbe-c4f0-a487e3c401cd"
      },
      "outputs": [
        {
          "output_type": "execute_result",
          "data": {
            "text/plain": [
              "2.0"
            ]
          },
          "metadata": {},
          "execution_count": 52
        }
      ],
      "source": [
        "np.mean(data)"
      ]
    },
    {
      "cell_type": "code",
      "execution_count": 53,
      "metadata": {
        "colab": {
          "base_uri": "https://localhost:8080/"
        },
        "id": "rpYiH3cvJimi",
        "outputId": "70288b72-c1d1-4f9b-d3b0-4e6aa72696a5"
      },
      "outputs": [
        {
          "output_type": "execute_result",
          "data": {
            "text/plain": [
              "2.0"
            ]
          },
          "metadata": {},
          "execution_count": 53
        }
      ],
      "source": [
        "data.mean()"
      ]
    },
    {
      "cell_type": "code",
      "execution_count": 54,
      "metadata": {
        "colab": {
          "base_uri": "https://localhost:8080/"
        },
        "id": "foWDsMaqJrS6",
        "outputId": "24509d3a-8429-4b55-b8c9-8dfabed7fe7c"
      },
      "outputs": [
        {
          "output_type": "execute_result",
          "data": {
            "text/plain": [
              "array([[-0.45540254, -0.18062046, -0.63565079,  0.58689711],\n",
              "       [-1.29062942, -1.0510313 , -0.32573296, -0.7782713 ],\n",
              "       [ 1.77342755,  1.6138695 , -0.32670617, -0.07105604],\n",
              "       [ 1.38053707, -0.18100648,  1.95718905,  1.00202916],\n",
              "       [ 0.18658333, -0.12149397,  0.29844408,  0.66256485]])"
            ]
          },
          "metadata": {},
          "execution_count": 54
        }
      ],
      "source": [
        "arr"
      ]
    },
    {
      "cell_type": "code",
      "execution_count": 55,
      "metadata": {
        "colab": {
          "base_uri": "https://localhost:8080/"
        },
        "id": "l03WTa4hJsn8",
        "outputId": "1d29b1a9-d920-4fc9-db29-cbe4f91ca5d6"
      },
      "outputs": [
        {
          "output_type": "execute_result",
          "data": {
            "text/plain": [
              "0.20219701447772884"
            ]
          },
          "metadata": {},
          "execution_count": 55
        }
      ],
      "source": [
        "np.mean(arr)"
      ]
    },
    {
      "cell_type": "code",
      "execution_count": 56,
      "metadata": {
        "colab": {
          "base_uri": "https://localhost:8080/"
        },
        "id": "L4_16vOPJuzW",
        "outputId": "23354c66-084a-41b1-83bf-4f8bfdba574d"
      },
      "outputs": [
        {
          "output_type": "execute_result",
          "data": {
            "text/plain": [
              "0.20219701447772884"
            ]
          },
          "metadata": {},
          "execution_count": 56
        }
      ],
      "source": [
        "arr.mean()"
      ]
    },
    {
      "cell_type": "code",
      "execution_count": 57,
      "metadata": {
        "colab": {
          "base_uri": "https://localhost:8080/"
        },
        "id": "WtOIz54TJ3HJ",
        "outputId": "09b1f796-272f-439b-a922-3f32728485e2"
      },
      "outputs": [
        {
          "output_type": "execute_result",
          "data": {
            "text/plain": [
              "array([-0.17119417, -0.86141624,  0.74738371,  1.0396872 ,  0.25652457])"
            ]
          },
          "metadata": {},
          "execution_count": 57
        }
      ],
      "source": [
        "np.mean(arr, axis=1)# qator bo'yich o'rtach qiymatni qaytaradi"
      ]
    },
    {
      "cell_type": "code",
      "execution_count": 58,
      "metadata": {
        "colab": {
          "base_uri": "https://localhost:8080/"
        },
        "id": "6nmRpAKJKBNt",
        "outputId": "93b9bb37-7e69-4d36-b8e9-0e8e6902513e"
      },
      "outputs": [
        {
          "output_type": "execute_result",
          "data": {
            "text/plain": [
              "array([0.3189032 , 0.01594346, 0.19350864, 0.28043275])"
            ]
          },
          "metadata": {},
          "execution_count": 58
        }
      ],
      "source": [
        "arr.mean(axis=0)# ustunlar bo'yich o'rtach qiymatni qaytaradi"
      ]
    },
    {
      "cell_type": "code",
      "execution_count": 58,
      "metadata": {
        "id": "Vdpa-8eSK0DV"
      },
      "outputs": [],
      "source": []
    },
    {
      "cell_type": "code",
      "execution_count": 59,
      "metadata": {
        "colab": {
          "base_uri": "https://localhost:8080/"
        },
        "id": "6VPaUlaUKH95",
        "outputId": "0add2057-d8da-4b68-80b6-b9cec4e66c99"
      },
      "outputs": [
        {
          "output_type": "execute_result",
          "data": {
            "text/plain": [
              "array([ 0,  1,  3,  6, 10])"
            ]
          },
          "metadata": {},
          "execution_count": 59
        }
      ],
      "source": [
        "data.cumsum()"
      ]
    }
  ],
  "metadata": {
    "colab": {
      "provenance": [],
      "authorship_tag": "ABX9TyNokUWly72UEp+xyYJpAT0V",
      "include_colab_link": true
    },
    "kernelspec": {
      "display_name": "Python 3",
      "name": "python3"
    },
    "language_info": {
      "name": "python"
    }
  },
  "nbformat": 4,
  "nbformat_minor": 0
}