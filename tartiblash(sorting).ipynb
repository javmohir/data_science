{
  "cells": [
    {
      "cell_type": "markdown",
      "metadata": {
        "id": "view-in-github",
        "colab_type": "text"
      },
      "source": [
        "<a href=\"https://colab.research.google.com/github/javmohir/data_science/blob/main/tartiblash(sorting).ipynb\" target=\"_parent\"><img src=\"https://colab.research.google.com/assets/colab-badge.svg\" alt=\"Open In Colab\"/></a>"
      ]
    },
    {
      "cell_type": "code",
      "execution_count": null,
      "metadata": {
        "colab": {
          "background_save": true
        },
        "id": "BujG8fbPpbuD"
      },
      "outputs": [],
      "source": [
        "import pandas as pd\n",
        "\n"
      ]
    },
    {
      "cell_type": "markdown",
      "metadata": {
        "id": "cDAv4U10PBRL"
      },
      "source": [
        "Massivga yo'naltirilgan dasturlash\n",
        "Tartiblash (Sorting)"
      ]
    },
    {
      "cell_type": "code",
      "execution_count": 69,
      "metadata": {
        "colab": {
          "base_uri": "https://localhost:8080/"
        },
        "id": "rem3J5pSPCom",
        "outputId": "5c5986ec-55a5-487f-f091-ebe043e8bc62"
      },
      "outputs": [
        {
          "output_type": "execute_result",
          "data": {
            "text/plain": [
              "array([ 0.15765547,  0.96678448,  0.37887742, -0.021472  ])"
            ]
          },
          "metadata": {},
          "execution_count": 69
        }
      ],
      "source": [
        "arr=np.random.randn(4) # 4 ta taxminiy elementlardan tashkil topgan massiv\n",
        "arr"
      ]
    },
    {
      "cell_type": "code",
      "execution_count": 70,
      "metadata": {
        "colab": {
          "base_uri": "https://localhost:8080/"
        },
        "id": "QNg-UHDISD1D",
        "outputId": "dec0335f-f518-407b-c19c-77001f4faa18"
      },
      "outputs": [
        {
          "output_type": "execute_result",
          "data": {
            "text/plain": [
              "array([-0.021472  ,  0.15765547,  0.37887742,  0.96678448])"
            ]
          },
          "metadata": {},
          "execution_count": 70
        }
      ],
      "source": [
        "sorted_arr=np.sort(arr) # arr massivini tartiblangan ko'rinishini sorted_arr joylaydi\n",
        "sorted_arr"
      ]
    },
    {
      "cell_type": "code",
      "execution_count": 71,
      "metadata": {
        "colab": {
          "base_uri": "https://localhost:8080/"
        },
        "id": "aR9_63beSiey",
        "outputId": "c5f7643d-6368-4d91-e58b-48cef3c1f7e5"
      },
      "outputs": [
        {
          "output_type": "execute_result",
          "data": {
            "text/plain": [
              "array([-0.021472  ,  0.15765547,  0.37887742,  0.96678448])"
            ]
          },
          "metadata": {},
          "execution_count": 71
        }
      ],
      "source": [
        "arr.sort()# arr ning tartiblangan ko'rinishi\n",
        "arr"
      ]
    },
    {
      "cell_type": "code",
      "source": [
        "# teskari tartiblash\n",
        "rev_arr=-np.sort(-arr)\n",
        "rev_arr"
      ],
      "metadata": {
        "colab": {
          "base_uri": "https://localhost:8080/"
        },
        "id": "gN1fcj8zUB25",
        "outputId": "5c93b1df-02b1-4117-e929-ef447d40f3a7"
      },
      "execution_count": 73,
      "outputs": [
        {
          "output_type": "execute_result",
          "data": {
            "text/plain": [
              "array([ 0.96678448,  0.37887742,  0.15765547, -0.021472  ])"
            ]
          },
          "metadata": {},
          "execution_count": 73
        }
      ]
    },
    {
      "cell_type": "code",
      "source": [
        "arr2d=np.random.randn(2, 4) #2 D array (massiv)\n",
        "arr2d"
      ],
      "metadata": {
        "colab": {
          "base_uri": "https://localhost:8080/"
        },
        "id": "RdEGHSO-UZ15",
        "outputId": "8ec8d875-89b0-4eaa-c287-1c525fd5cdb7"
      },
      "execution_count": 74,
      "outputs": [
        {
          "output_type": "execute_result",
          "data": {
            "text/plain": [
              "array([[-0.12709482,  0.64616999,  1.5520358 , -0.81444689],\n",
              "       [ 0.40765249,  1.45307854, -0.45869642, -0.81076076]])"
            ]
          },
          "metadata": {},
          "execution_count": 74
        }
      ]
    },
    {
      "cell_type": "code",
      "source": [
        "# axis = 0 --> Qator"
      ],
      "metadata": {
        "id": "LarSCSF0VBCM"
      },
      "execution_count": null,
      "outputs": []
    },
    {
      "cell_type": "code",
      "source": [
        "raw_srt=np.sort(arr2d, axis=0)  # arr2d ning xar bir ustun bo'yicha tartiblangan ko'rinishi\n",
        "raw_srt"
      ],
      "metadata": {
        "id": "nU7sSctsVC_8",
        "outputId": "3823c189-e575-427b-cdaa-58e100576740",
        "colab": {
          "base_uri": "https://localhost:8080/"
        }
      },
      "execution_count": 75,
      "outputs": [
        {
          "output_type": "execute_result",
          "data": {
            "text/plain": [
              "array([[-0.12709482,  0.64616999, -0.45869642, -0.81444689],\n",
              "       [ 0.40765249,  1.45307854,  1.5520358 , -0.81076076]])"
            ]
          },
          "metadata": {},
          "execution_count": 75
        }
      ]
    },
    {
      "cell_type": "code",
      "source": [
        "col_str=np.sort(arr2d, axis=1) # arr2d ning xar bir qator bo'yicha tartiblangan ko'rinishi\n",
        "col_str"
      ],
      "metadata": {
        "id": "eSwfwAOOV_NJ",
        "outputId": "f8ea7ed2-03d7-49e0-b3ac-d54989cda076",
        "colab": {
          "base_uri": "https://localhost:8080/"
        }
      },
      "execution_count": 77,
      "outputs": [
        {
          "output_type": "execute_result",
          "data": {
            "text/plain": [
              "array([[-0.81444689, -0.12709482,  0.64616999,  1.5520358 ],\n",
              "       [-0.81076076, -0.45869642,  0.40765249,  1.45307854]])"
            ]
          },
          "metadata": {},
          "execution_count": 77
        }
      ]
    },
    {
      "cell_type": "code",
      "source": [],
      "metadata": {
        "id": "6dMkHRIJWvFf"
      },
      "execution_count": null,
      "outputs": []
    }
  ],
  "metadata": {
    "colab": {
      "provenance": [],
      "authorship_tag": "ABX9TyNHnfYNpTWmM8ZYZY3Hx9nS",
      "include_colab_link": true
    },
    "kernelspec": {
      "display_name": "Python 3",
      "name": "python3"
    },
    "language_info": {
      "name": "python"
    }
  },
  "nbformat": 4,
  "nbformat_minor": 0
}